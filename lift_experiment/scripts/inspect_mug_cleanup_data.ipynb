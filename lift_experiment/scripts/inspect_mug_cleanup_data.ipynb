{
 "cells": [
  {
   "cell_type": "markdown",
   "metadata": {},
   "source": [
    "Load neccessary modules"
   ]
  },
  {
   "cell_type": "code",
   "execution_count": null,
   "metadata": {},
   "outputs": [
    {
     "ename": "",
     "evalue": "",
     "output_type": "error",
     "traceback": [
      "\u001b[1;31mRunning cells with 'Python 3.12.8' requires the ipykernel package.\n",
      "\u001b[1;31mRun the following command to install 'ipykernel' into the Python environment. \n",
      "\u001b[1;31mCommand: '/bin/python3.12 -m pip install ipykernel -U --user --force-reinstall'"
     ]
    }
   ],
   "source": [
    "import h5py\n",
    "import numpy as np\n",
    "import matplotlib.pyplot as plt\n",
    "import os"
   ]
  },
  {
   "cell_type": "markdown",
   "metadata": {},
   "source": [
    "Define dataset path"
   ]
  },
  {
   "cell_type": "code",
   "execution_count": null,
   "metadata": {},
   "outputs": [],
   "source": [
    "# Set dataset path (modify this if necessary)\n",
    "dataset_path = \"../datasets/ph/low_dim_v141.hdf5\"\n",
    "\n",
    "# Check if dataset exists\n",
    "if os.path.exists(dataset_path):\n",
    "    print(\"Dataset Found! ✅\")\n",
    "else:\n",
    "    print(\"Dataset Not Found! ❌ Check the path.\")\n"
   ]
  },
  {
   "cell_type": "markdown",
   "metadata": {},
   "source": [
    "Load and inspect the dataset keys"
   ]
  },
  {
   "cell_type": "code",
   "execution_count": null,
   "metadata": {},
   "outputs": [],
   "source": [
    "# Load dataset and print its structure\n",
    "with h5py.File(dataset_path, \"r\") as f:\n",
    "    dataset_keys = list(f.keys())\n",
    "    print(\"Dataset Keys:\", dataset_keys)  # Should print: ['data']\n",
    "    \n",
    "    # Check available demos (trajectory data)\n",
    "    demos = list(f[\"data\"].keys())\n",
    "    print(f\"Total Demonstrations: {len(demos)}\")\n",
    "\n",
    "    # Print first 5 demos\n",
    "    print(\"First 5 Demos:\", demos[:5])\n"
   ]
  },
  {
   "cell_type": "markdown",
   "metadata": {},
   "source": [
    "Inspect a single demonstration"
   ]
  },
  {
   "cell_type": "code",
   "execution_count": null,
   "metadata": {},
   "outputs": [],
   "source": [
    "# Select first demo\n",
    "with h5py.File(dataset_path, \"r\") as f:\n",
    "    demo_id = demos[0]  # First demonstration\n",
    "    print(f\"Inspecting Demo: {demo_id}\")\n",
    "\n",
    "    # Load the demonstration data\n",
    "    demo = f[\"data\"][demo_id]\n",
    "    demo_keys = list(demo.keys())\n",
    "    print(\"Keys in Demo:\", demo_keys)\n"
   ]
  },
  {
   "cell_type": "markdown",
   "metadata": {},
   "source": [
    "Checks actions, states, rewards"
   ]
  },
  {
   "cell_type": "code",
   "execution_count": null,
   "metadata": {},
   "outputs": [],
   "source": [
    "# Extract key components\n",
    "with h5py.File(dataset_path, \"r\") as f:\n",
    "    demo = f[\"data\"][demo_id]  # Load first demo\n",
    "    \n",
    "    actions = demo[\"actions\"][:]\n",
    "    states = demo[\"states\"][:]\n",
    "    rewards = demo[\"rewards\"][:]\n",
    "\n",
    "    # Print Shapes\n",
    "    print(\"Number of Transitions:\", len(actions))\n",
    "    print(\"Shape of Actions:\", actions.shape)\n",
    "    print(\"Shape of Rewards:\", rewards.shape)\n",
    "    print(\"Shape of States:\", states.shape)\n",
    "\n",
    "    # Print first 5 actions\n",
    "    print(\"Sample Actions:\\n\", actions[:5])\n"
   ]
  },
  {
   "cell_type": "markdown",
   "metadata": {},
   "source": [
    "Inspect observations"
   ]
  },
  {
   "cell_type": "code",
   "execution_count": null,
   "metadata": {},
   "outputs": [],
   "source": [
    "# Extract observations\n",
    "with h5py.File(dataset_path, \"r\") as f:\n",
    "    demo = f[\"data\"][demo_id]  # Load first demo\n",
    "    obs = demo[\"obs\"]\n",
    "\n",
    "    # Print available observation keys\n",
    "    obs_keys = list(obs.keys())\n",
    "    print(\"Observation Keys:\", obs_keys)\n",
    "\n",
    "    # Print sample observation shapes\n",
    "    for key in obs_keys:\n",
    "        print(f\"{key}: {obs[key].shape}\")\n"
   ]
  },
  {
   "cell_type": "markdown",
   "metadata": {},
   "source": [
    "Display sample images"
   ]
  },
  {
   "cell_type": "code",
   "execution_count": null,
   "metadata": {},
   "outputs": [],
   "source": [
    "# Visualize first 5 images\n",
    "with h5py.File(dataset_path, \"r\") as f:\n",
    "    demo = f[\"data\"][demo_id]  # Load first demo\n",
    "    obs = demo[\"obs\"]\n",
    "\n",
    "    if \"agentview_image\" in obs.keys():\n",
    "        images = obs[\"agentview_image\"][:5]  # First 5 images\n",
    "\n",
    "        fig, axes = plt.subplots(1, 5, figsize=(15, 3))\n",
    "        for i in range(5):\n",
    "            axes[i].imshow(images[i])\n",
    "            axes[i].axis(\"off\")\n",
    "        plt.show()\n",
    "    else:\n",
    "        print(\"No image data found in observations.\")\n"
   ]
  },
  {
   "cell_type": "markdown",
   "metadata": {},
   "source": [
    "Visual end-effector trajectory"
   ]
  },
  {
   "cell_type": "code",
   "execution_count": null,
   "metadata": {},
   "outputs": [],
   "source": [
    "# Plot End-Effector Positions\n",
    "with h5py.File(dataset_path, \"r\") as f:\n",
    "    demo = f[\"data\"][demo_id]  # Load first demo\n",
    "    obs = demo[\"obs\"]\n",
    "\n",
    "    if \"robot0_eef_pos\" in obs.keys():\n",
    "        eef_positions = obs[\"robot0_eef_pos\"][:]\n",
    "        print(\"Sample End Effector Positions:\\n\", eef_positions[:5])\n",
    "\n",
    "        # Plot XY trajectory\n",
    "        plt.figure(figsize=(6,6))\n",
    "        plt.plot(eef_positions[:, 0], eef_positions[:, 1], label=\"XY Trajectory\")\n",
    "        plt.scatter(eef_positions[0, 0], eef_positions[0, 1], color='green', label=\"Start\")\n",
    "        plt.scatter(eef_positions[-1, 0], eef_positions[-1, 1], color='red', label=\"End\")\n",
    "        plt.xlabel(\"X Position\")\n",
    "        plt.ylabel(\"Y Position\")\n",
    "        plt.legend()\n",
    "        plt.title(\"End-Effector XY Trajectory\")\n",
    "        plt.show()\n",
    "    else:\n",
    "        print(\"No end-effector position data found.\")\n"
   ]
  }
 ],
 "metadata": {
  "kernelspec": {
   "display_name": "Python 3",
   "language": "python",
   "name": "python3"
  },
  "language_info": {
   "name": "python",
   "version": "3.12.8"
  }
 },
 "nbformat": 4,
 "nbformat_minor": 2
}
